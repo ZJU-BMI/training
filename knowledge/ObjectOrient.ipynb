{
 "cells": [
  {
   "cell_type": "markdown",
   "metadata": {},
   "source": [
    "# 面向对象\n",
    "首先是一点有的没的 **python中一切都是对象**"
   ]
  },
  {
   "cell_type": "code",
   "execution_count": 1,
   "metadata": {},
   "outputs": [
    {
     "name": "stdout",
     "output_type": "stream",
     "text": [
      "<class 'function'>\n"
     ]
    }
   ],
   "source": [
    "def foo():\n",
    "    print(\"foo\")\n",
    "\n",
    "print(type(foo))"
   ]
  },
  {
   "cell_type": "code",
   "execution_count": 2,
   "metadata": {
    "scrolled": false
   },
   "outputs": [
    {
     "name": "stdout",
     "output_type": "stream",
     "text": [
      "<class 'int'>\n",
      "<class 'list'>\n",
      "<class 'dict'>\n"
     ]
    }
   ],
   "source": [
    "print(type(1))\n",
    "print(type([]))\n",
    "print(type({}))"
   ]
  },
  {
   "cell_type": "markdown",
   "metadata": {},
   "source": [
    "函数可以拥有自己的属性，自己的成员函数"
   ]
  },
  {
   "cell_type": "code",
   "execution_count": 2,
   "metadata": {
    "scrolled": true
   },
   "outputs": [
    {
     "name": "stdout",
     "output_type": "stream",
     "text": [
      "a\n",
      "b\n"
     ]
    }
   ],
   "source": [
    "def func():\n",
    "    pass\n",
    "\n",
    "func.a = 'a'\n",
    "print(func.a)\n",
    "\n",
    "func.b = lambda: print('b')\n",
    "func.b()"
   ]
  },
  {
   "cell_type": "code",
   "execution_count": null,
   "metadata": {},
   "outputs": [],
   "source": [
    "func = lambda: print('b')\n"
   ]
  },
  {
   "cell_type": "code",
   "execution_count": 11,
   "metadata": {
    "collapsed": true
   },
   "outputs": [
    {
     "data": {
      "text/plain": [
       "['__annotations__',\n",
       " '__call__',\n",
       " '__class__',\n",
       " '__closure__',\n",
       " '__code__',\n",
       " '__defaults__',\n",
       " '__delattr__',\n",
       " '__dict__',\n",
       " '__dir__',\n",
       " '__doc__',\n",
       " '__eq__',\n",
       " '__format__',\n",
       " '__ge__',\n",
       " '__get__',\n",
       " '__getattribute__',\n",
       " '__globals__',\n",
       " '__gt__',\n",
       " '__hash__',\n",
       " '__init__',\n",
       " '__init_subclass__',\n",
       " '__kwdefaults__',\n",
       " '__le__',\n",
       " '__lt__',\n",
       " '__module__',\n",
       " '__name__',\n",
       " '__ne__',\n",
       " '__new__',\n",
       " '__qualname__',\n",
       " '__reduce__',\n",
       " '__reduce_ex__',\n",
       " '__repr__',\n",
       " '__setattr__',\n",
       " '__sizeof__',\n",
       " '__str__',\n",
       " '__subclasshook__',\n",
       " 'a',\n",
       " 'b']"
      ]
     },
     "execution_count": 11,
     "metadata": {},
     "output_type": "execute_result"
    }
   ],
   "source": [
    "dir(func)"
   ]
  },
  {
   "cell_type": "markdown",
   "metadata": {},
   "source": [
    "然后这些都是瞎扯，下面是正式的关于python面向对象的介绍"
   ]
  },
  {
   "cell_type": "markdown",
   "metadata": {},
   "source": [
    "# 面向对象的思想\n",
    "1. 封装\n",
    "\n",
    "  隐藏对象的属性和实现细节，仅对外公开接口，控制在程序中属性的读和修改的访问级别；将抽象得到的数据和行为（或功能）相结合，形成一个有机的整体，也就是将数据与操作数据的源代码进行有机的结合，形成“类”，其中数据和函数都是类的成员。\n",
    "2. 继承\n",
    "\n",
    "  一个类B继承于A类的时候，A称为B的父类，B称为A的子类。子类可以继承父类的属性和方法，从而不需编写重复的代码。同时也可以重写父类的方法，来改变父类的行为。添加额外的属性，额外的方法等\n",
    "3. 多态\n",
    "\n",
    "  一个类A不仅可以被B继承，也可以被C继承。B和C可以具有不同的行为即为多态"
   ]
  },
  {
   "cell_type": "markdown",
   "metadata": {},
   "source": [
    "> 模块：在Python中，每一个.py文件就是一个模块\n",
    "\n",
    "> 包：  为了模块不与他人的重名，选择一个文件夹作为一个包，然后这个包下必须有\\_\\_init\\_\\_.py，否则会被当成一个普通的目录而不是包\n",
    "\n",
    "> 类：  class ClassName(object): pass\n",
    "\n",
    "> 函数： def func(): pass\n"
   ]
  },
  {
   "cell_type": "markdown",
   "metadata": {},
   "source": [
    "一般一个类中含有\n",
    "* 属性\n",
    "    * 类属性\n",
    "    * 实例属性\n",
    "* 构造函数\n",
    "* 成员函数，也叫做方法\n",
    "    * 实例方法\n",
    "    * 静态方法\n",
    "    * 类方法\n",
    "\n",
    "定义类\n",
    "```python\n",
    "class Person(object):    \n",
    "    def __init__(self):  # 构造函数\n",
    "        pass\n",
    "```\n",
    "\n",
    "添加实例属性\n",
    "```python\n",
    "class Person(object):\n",
    "    def __init__(self):\n",
    "        self.height = 188\n",
    "        self.weight = 188\n",
    "```\n",
    "\n",
    "添加类属性\n",
    "```python\n",
    "class A(object):\n",
    "    attr0 = 'attr0'\n",
    "    attr1 = 'attr1'\n",
    "    \n",
    "    def __init__(self):\n",
    "        self.height = 188\n",
    "        self.weight = 188\n",
    "```\n",
    "\n",
    "添加成员函数，方法\n",
    "```python\n",
    "class A(object):\n",
    "    attr0 = 'attr0'\n",
    "    attr1 = 'attr1'\n",
    "    \n",
    "    def __init__(self, name='a'):\n",
    "        self.name = name\n",
    "        self.height = 188\n",
    "        self.weight = 188\n",
    "    \n",
    "    def print_name(self):\n",
    "        print(self.name)\n",
    "```\n",
    "\n",
    "添加静态方法，类方法\n",
    "```python\n",
    "class A(object):\n",
    "    attr0 = 'attr0'\n",
    "    attr1 = 'attr1'\n",
    "    \n",
    "    def __init__(self, name='a'):\n",
    "        self.name = name\n",
    "        self.height = 188\n",
    "        self.weight = 188\n",
    "    \n",
    "    def print_name(self):\n",
    "        print(self.name)\n",
    "    \n",
    "    @staticmethod\n",
    "    def s_method():\n",
    "        print('static method')\n",
    "     \n",
    "    @classmethod\n",
    "    def c_method(cls):\n",
    "        print('class method')\n",
    "```"
   ]
  },
  {
   "cell_type": "code",
   "execution_count": 7,
   "metadata": {
    "scrolled": false
   },
   "outputs": [
    {
     "name": "stdout",
     "output_type": "stream",
     "text": [
      "attr0 188 188\n",
      "attr0 100 188\n",
      "123 123\n"
     ]
    }
   ],
   "source": [
    "class A(object):\n",
    "    attr0 = 'attr0'\n",
    "    attr1 = 'attr1'\n",
    "\n",
    "    def __init__(self):\n",
    "        self.height = 188\n",
    "        self.weight = 188\n",
    "        \n",
    "a = A()\n",
    "b = A()\n",
    "b.height = 100\n",
    "print(a.attr0, a.height, a.weight)\n",
    "print(b.attr0, b.height, b.weight)\n",
    "A.attr0 = '123'\n",
    "print(a.attr0, b.attr0)"
   ]
  },
  {
   "cell_type": "markdown",
   "metadata": {},
   "source": [
    "## python中的权限控制\n",
    "\n",
    "```python\n",
    "class A(object):\n",
    "    def __init__(self, name='a'):  # 特殊方法\n",
    "        self.name = name\n",
    "        self.height = 188  # public\n",
    "        self.__weight = 188  # private\n",
    "    \n",
    "    def print_name(self):  # public method\n",
    "        print(self.name)\n",
    "            \n",
    "    def __gain_weight(self, 1):  # private method\n",
    "        self.__weight += 1\n",
    "```"
   ]
  },
  {
   "cell_type": "code",
   "execution_count": 8,
   "metadata": {},
   "outputs": [],
   "source": [
    "class Person(object):\n",
    "    def __init__(self, name=\"one\"):\n",
    "        self._name = name\n",
    "        self.__height = 100\n",
    "        self.__weight = 100\n",
    "    \n",
    "    def get_height(self):\n",
    "        return self.__height\n",
    "    \n",
    "    def get_weight(self):\n",
    "        return self.__weight\n",
    "    \n",
    "    @property\n",
    "    def weight(self):\n",
    "        return self.__weight\n",
    "    \n",
    "    @weight.setter\n",
    "    def weight(self, x):\n",
    "        self.__weight = x\n",
    "\n",
    "person = Person(\"gzx\")"
   ]
  },
  {
   "cell_type": "code",
   "execution_count": 10,
   "metadata": {},
   "outputs": [
    {
     "data": {
      "text/plain": [
       "200"
      ]
     },
     "execution_count": 10,
     "metadata": {},
     "output_type": "execute_result"
    }
   ],
   "source": [
    "person.weight = 200\n",
    "person.get_weight()"
   ]
  },
  {
   "cell_type": "code",
   "execution_count": 8,
   "metadata": {
    "scrolled": true
   },
   "outputs": [
    {
     "data": {
      "text/plain": [
       "'gzx'"
      ]
     },
     "execution_count": 8,
     "metadata": {},
     "output_type": "execute_result"
    }
   ],
   "source": [
    "person._name"
   ]
  },
  {
   "cell_type": "code",
   "execution_count": 11,
   "metadata": {
    "scrolled": false
   },
   "outputs": [
    {
     "ename": "AttributeError",
     "evalue": "'Person' object has no attribute '__height'",
     "output_type": "error",
     "traceback": [
      "\u001b[1;31m---------------------------------------------------------------------------\u001b[0m",
      "\u001b[1;31mAttributeError\u001b[0m                            Traceback (most recent call last)",
      "\u001b[1;32m<ipython-input-11-3b44f3dc72a8>\u001b[0m in \u001b[0;36m<module>\u001b[1;34m()\u001b[0m\n\u001b[1;32m----> 1\u001b[1;33m \u001b[0mperson\u001b[0m\u001b[1;33m.\u001b[0m\u001b[0m__height\u001b[0m\u001b[1;33m\u001b[0m\u001b[0m\n\u001b[0m",
      "\u001b[1;31mAttributeError\u001b[0m: 'Person' object has no attribute '__height'"
     ]
    }
   ],
   "source": [
    "person.__height"
   ]
  },
  {
   "cell_type": "code",
   "execution_count": 12,
   "metadata": {},
   "outputs": [
    {
     "data": {
      "text/plain": [
       "100"
      ]
     },
     "execution_count": 12,
     "metadata": {},
     "output_type": "execute_result"
    }
   ],
   "source": [
    "person.get_weight()"
   ]
  },
  {
   "cell_type": "code",
   "execution_count": 14,
   "metadata": {
    "scrolled": false
   },
   "outputs": [
    {
     "data": {
      "text/plain": [
       "100"
      ]
     },
     "execution_count": 14,
     "metadata": {},
     "output_type": "execute_result"
    }
   ],
   "source": [
    "person._Person__height  # 破坏私有"
   ]
  },
  {
   "cell_type": "markdown",
   "metadata": {},
   "source": [
    "回到开头我所讲的，在python中一切都是对象\n",
    "\n",
    "在一个python类中，所有的属性，方法都可以称之为属性，而`属性`和`方法`之间区别就在于，方法是callable的\n",
    "\n",
    "从python的报错中也可以发现，`'str' object is not callable` 或者 `'C' object has no attribute 'c'`"
   ]
  },
  {
   "cell_type": "markdown",
   "metadata": {},
   "source": [
    "# Camel case\n",
    "StringCall\n",
    "\n",
    "# Snake case\n",
    "string_call"
   ]
  },
  {
   "cell_type": "code",
   "execution_count": 15,
   "metadata": {},
   "outputs": [],
   "source": [
    "class C(object):\n",
    "    a = 'a'\n",
    "    b = lambda: print('b')\n",
    "    \n",
    "    def c(self):\n",
    "        print('c')"
   ]
  },
  {
   "cell_type": "code",
   "execution_count": 17,
   "metadata": {
    "scrolled": true
   },
   "outputs": [
    {
     "ename": "TypeError",
     "evalue": "'str' object is not callable",
     "output_type": "error",
     "traceback": [
      "\u001b[1;31m---------------------------------------------------------------------------\u001b[0m",
      "\u001b[1;31mTypeError\u001b[0m                                 Traceback (most recent call last)",
      "\u001b[1;32m<ipython-input-17-f3336df70636>\u001b[0m in \u001b[0;36m<module>\u001b[1;34m()\u001b[0m\n\u001b[0;32m      1\u001b[0m \u001b[0mc\u001b[0m \u001b[1;33m=\u001b[0m \u001b[0mC\u001b[0m\u001b[1;33m(\u001b[0m\u001b[1;33m)\u001b[0m\u001b[1;33m\u001b[0m\u001b[0m\n\u001b[1;32m----> 2\u001b[1;33m \u001b[0mc\u001b[0m\u001b[1;33m.\u001b[0m\u001b[0ma\u001b[0m\u001b[1;33m(\u001b[0m\u001b[1;33m)\u001b[0m\u001b[1;33m\u001b[0m\u001b[0m\n\u001b[0m",
      "\u001b[1;31mTypeError\u001b[0m: 'str' object is not callable"
     ]
    }
   ],
   "source": [
    "c = C()\n",
    "c.a()"
   ]
  },
  {
   "cell_type": "code",
   "execution_count": 18,
   "metadata": {
    "scrolled": false
   },
   "outputs": [
    {
     "ename": "TypeError",
     "evalue": "<lambda>() takes 0 positional arguments but 1 was given",
     "output_type": "error",
     "traceback": [
      "\u001b[1;31m---------------------------------------------------------------------------\u001b[0m",
      "\u001b[1;31mTypeError\u001b[0m                                 Traceback (most recent call last)",
      "\u001b[1;32m<ipython-input-18-fe8a41d9fc38>\u001b[0m in \u001b[0;36m<module>\u001b[1;34m()\u001b[0m\n\u001b[1;32m----> 1\u001b[1;33m \u001b[0mc\u001b[0m\u001b[1;33m.\u001b[0m\u001b[0mb\u001b[0m\u001b[1;33m(\u001b[0m\u001b[1;33m)\u001b[0m\u001b[1;33m\u001b[0m\u001b[0m\n\u001b[0m",
      "\u001b[1;31mTypeError\u001b[0m: <lambda>() takes 0 positional arguments but 1 was given"
     ]
    }
   ],
   "source": [
    "c.b()"
   ]
  },
  {
   "cell_type": "code",
   "execution_count": 14,
   "metadata": {
    "scrolled": true
   },
   "outputs": [
    {
     "name": "stdout",
     "output_type": "stream",
     "text": [
      "c\n"
     ]
    }
   ],
   "source": [
    "c.c()"
   ]
  },
  {
   "cell_type": "code",
   "execution_count": 6,
   "metadata": {
    "scrolled": true
   },
   "outputs": [
    {
     "ename": "AttributeError",
     "evalue": "'C' object has no attribute 'd'",
     "output_type": "error",
     "traceback": [
      "\u001b[1;31m---------------------------------------------------------------------------\u001b[0m",
      "\u001b[1;31mAttributeError\u001b[0m                            Traceback (most recent call last)",
      "\u001b[1;32m<ipython-input-6-cdb1218ec45c>\u001b[0m in \u001b[0;36m<module>\u001b[1;34m()\u001b[0m\n\u001b[1;32m----> 1\u001b[1;33m \u001b[0mc\u001b[0m\u001b[1;33m.\u001b[0m\u001b[0md\u001b[0m\u001b[1;33m(\u001b[0m\u001b[1;33m)\u001b[0m\u001b[1;33m\u001b[0m\u001b[0m\n\u001b[0m",
      "\u001b[1;31mAttributeError\u001b[0m: 'C' object has no attribute 'd'"
     ]
    }
   ],
   "source": [
    "c.d()"
   ]
  }
 ],
 "metadata": {
  "kernelspec": {
   "display_name": "Python 3",
   "language": "python",
   "name": "python3"
  },
  "language_info": {
   "codemirror_mode": {
    "name": "ipython",
    "version": 3
   },
   "file_extension": ".py",
   "mimetype": "text/x-python",
   "name": "python",
   "nbconvert_exporter": "python",
   "pygments_lexer": "ipython3",
   "version": "3.6.4"
  }
 },
 "nbformat": 4,
 "nbformat_minor": 2
}
