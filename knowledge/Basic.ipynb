{
 "cells": [
  {
   "cell_type": "markdown",
   "metadata": {},
   "source": [
    "# 基础知识"
   ]
  },
  {
   "cell_type": "code",
   "execution_count": 3,
   "metadata": {
    "scrolled": false
   },
   "outputs": [
    {
     "name": "stdout",
     "output_type": "stream",
     "text": [
      "<class 'int'>\n",
      "<class 'float'>\n",
      "<class 'str'>\n",
      "<class 'list'>\n",
      "<class 'tuple'>\n",
      "<class 'dict'>\n",
      "<class 'bool'>\n"
     ]
    }
   ],
   "source": [
    "# 基础类型\n",
    "print(type(1))  # int\n",
    "print(type(1.))  # float\n",
    "print(type(\"a\"))  # str\n",
    "print(type([]))  # list []\n",
    "print(type(())) # tuple ()\n",
    "print(type({}))  # dict {}\n",
    "print(type(True))  # bool"
   ]
  },
  {
   "cell_type": "code",
   "execution_count": 1,
   "metadata": {},
   "outputs": [],
   "source": [
    "# 基本运算 + - * /\n",
    "a = 1 + 1\n",
    "b = 2 - 1\n",
    "c = 2 * 3\n",
    "d = 4 / 1"
   ]
  },
  {
   "cell_type": "code",
   "execution_count": 6,
   "metadata": {},
   "outputs": [
    {
     "name": "stdout",
     "output_type": "stream",
     "text": [
      "False\n",
      "True\n",
      "True\n",
      "False\n",
      "True\n",
      "False\n"
     ]
    }
   ],
   "source": [
    "# 逻辑运算符 is not or and\n",
    "print(1 is \"1\")\n",
    "print(\"1\" == '1')\n",
    "print(not True)\n",
    "print(False or True)\n",
    "print(True and False)"
   ]
  },
  {
   "cell_type": "markdown",
   "metadata": {},
   "source": [
    "> more reference [here](https://docs.python.org/3/library/stdtypes.html)"
   ]
  },
  {
   "cell_type": "code",
   "execution_count": 2,
   "metadata": {},
   "outputs": [],
   "source": [
    "# 条件判断\n",
    "if (True):\n",
    "    pass\n",
    "elif False:\n",
    "    pass\n",
    "else:\n",
    "    pass"
   ]
  },
  {
   "cell_type": "code",
   "execution_count": 8,
   "metadata": {},
   "outputs": [
    {
     "name": "stdout",
     "output_type": "stream",
     "text": [
      "1\n"
     ]
    }
   ],
   "source": [
    "if 3 < 5:\n",
    "    print('1')"
   ]
  },
  {
   "cell_type": "code",
   "execution_count": 1,
   "metadata": {},
   "outputs": [
    {
     "name": "stdout",
     "output_type": "stream",
     "text": [
      "case0\n"
     ]
    }
   ],
   "source": [
    "# 没有switch，但我们可以这样干\n",
    "switch = {\n",
    "    \"case0\": lambda: print(\"case0\"),\n",
    "    \"case1\": lambda: print(\"case1\"),\n",
    "    \"case2\": lambda: print(\"case2\")\n",
    "}\n",
    "\n",
    "switch['case0']()"
   ]
  },
  {
   "cell_type": "code",
   "execution_count": 3,
   "metadata": {},
   "outputs": [],
   "source": [
    "# 循环\n",
    "for i in range(10):\n",
    "    pass\n",
    "\n",
    "while(True):\n",
    "    break"
   ]
  },
  {
   "cell_type": "code",
   "execution_count": 7,
   "metadata": {
    "scrolled": true
   },
   "outputs": [
    {
     "name": "stdout",
     "output_type": "stream",
     "text": [
      "a\n",
      "b\n",
      "c\n",
      "d\n"
     ]
    }
   ],
   "source": [
    "# 迭代\n",
    "a = [\"a\", \"b\", \"c\", \"d\"]\n",
    "for i in a:\n",
    "    print(i)"
   ]
  },
  {
   "cell_type": "markdown",
   "metadata": {},
   "source": [
    "### Tips\n",
    "\n",
    "* 函数的参数\n",
    "    * 多个参数\n",
    "    * 默认参数\n",
    "    * 可变参数\n",
    "* 函数的返回值\n",
    "    * 无\n",
    "    * 单个\n",
    "    * 多个"
   ]
  },
  {
   "cell_type": "code",
   "execution_count": 4,
   "metadata": {},
   "outputs": [
    {
     "name": "stdout",
     "output_type": "stream",
     "text": [
      "func\n",
      "2\n",
      "1 2 3\n"
     ]
    }
   ],
   "source": [
    "# 函数\n",
    "def func():\n",
    "    print('func')\n",
    "\n",
    "func()\n",
    "\n",
    "def func2(a):\n",
    "    print(a)\n",
    "\n",
    "func2(2)\n",
    "\n",
    "def func3(a, *arg):\n",
    "    print(a, *arg)\n",
    "\n",
    "func3(1, 2, 3)"
   ]
  },
  {
   "cell_type": "code",
   "execution_count": 1,
   "metadata": {
    "scrolled": false
   },
   "outputs": [
    {
     "name": "stdout",
     "output_type": "stream",
     "text": [
      "1 2 3\n",
      "(4, 5)\n",
      "{'d': 6, 'e': 7}\n",
      "1 2 1\n",
      "()\n",
      "{}\n"
     ]
    }
   ],
   "source": [
    "# 函数的参数\n",
    "def func4(a, b, c=1, *args, **kw_args):\n",
    "    print(a, b, c)\n",
    "    print(args)\n",
    "    print(kw_args)\n",
    "\n",
    "func4(1, 2, 3, 4, 5, d=6, e=7)\n",
    "func4(1, 2)"
   ]
  },
  {
   "cell_type": "code",
   "execution_count": 3,
   "metadata": {
    "scrolled": false
   },
   "outputs": [
    {
     "name": "stdout",
     "output_type": "stream",
     "text": [
      "1 2 3\n",
      "('a', 'b')\n",
      "{'d': 6, 'e': 7}\n",
      "1 2 3\n",
      "('a', 'b')\n",
      "{'d': 6, 'e': 7}\n"
     ]
    }
   ],
   "source": [
    "c = ['a', 'b']\n",
    "\n",
    "func4(1, 2, 3, 'a', 'b', d=6, e=7)\n",
    "func4(1, 2, 3, *c, d=6, e=7)"
   ]
  },
  {
   "cell_type": "code",
   "execution_count": 4,
   "metadata": {},
   "outputs": [],
   "source": [
    "def func1():\n",
    "    pass\n",
    "\n",
    "def func2():\n",
    "    return 1\n",
    "\n",
    "def func3():\n",
    "    return 'str'\n",
    "\n",
    "def func4():\n",
    "    return 1, 'str'"
   ]
  },
  {
   "cell_type": "code",
   "execution_count": 5,
   "metadata": {},
   "outputs": [
    {
     "name": "stdout",
     "output_type": "stream",
     "text": [
      "None\n",
      "1\n",
      "str\n",
      "(1, 'str')\n",
      "1\n",
      "str\n"
     ]
    }
   ],
   "source": [
    "a = func1()\n",
    "b = func2()\n",
    "c = func3()\n",
    "d = func4()\n",
    "e, f = func4()\n",
    "print(a)\n",
    "print(b)\n",
    "print(c)\n",
    "print(d)\n",
    "print(e)\n",
    "print(f)"
   ]
  },
  {
   "cell_type": "code",
   "execution_count": 6,
   "metadata": {
    "scrolled": false
   },
   "outputs": [
    {
     "ename": "ValueError",
     "evalue": "not enough values to unpack (expected 3, got 2)",
     "output_type": "error",
     "traceback": [
      "\u001b[1;31m---------------------------------------------------------------------------\u001b[0m",
      "\u001b[1;31mValueError\u001b[0m                                Traceback (most recent call last)",
      "\u001b[1;32m<ipython-input-6-f2d43aa04158>\u001b[0m in \u001b[0;36m<module>\u001b[1;34m()\u001b[0m\n\u001b[0;32m      2\u001b[0m \u001b[0mstr\u001b[0m \u001b[1;33m=\u001b[0m \u001b[1;34m\"<>123\"\u001b[0m\u001b[1;33m\u001b[0m\u001b[0m\n\u001b[0;32m      3\u001b[0m \u001b[1;33m\u001b[0m\u001b[0m\n\u001b[1;32m----> 4\u001b[1;33m \u001b[0m_\u001b[0m\u001b[1;33m,\u001b[0m \u001b[0mcontent\u001b[0m\u001b[1;33m,\u001b[0m \u001b[0m_\u001b[0m \u001b[1;33m=\u001b[0m \u001b[0mre\u001b[0m\u001b[1;33m.\u001b[0m\u001b[0mcompile\u001b[0m\u001b[1;33m(\u001b[0m\u001b[1;34m'<>'\u001b[0m\u001b[1;33m)\u001b[0m\u001b[1;33m.\u001b[0m\u001b[0msplit\u001b[0m\u001b[1;33m(\u001b[0m\u001b[0mstr\u001b[0m\u001b[1;33m)\u001b[0m\u001b[1;33m\u001b[0m\u001b[0m\n\u001b[0m\u001b[0;32m      5\u001b[0m \u001b[0mprint\u001b[0m\u001b[1;33m(\u001b[0m\u001b[0mcontent\u001b[0m\u001b[1;33m)\u001b[0m\u001b[1;33m\u001b[0m\u001b[0m\n",
      "\u001b[1;31mValueError\u001b[0m: not enough values to unpack (expected 3, got 2)"
     ]
    }
   ],
   "source": [
    "import re\n",
    "str = \"<>123\"\n",
    "\n",
    "_, content, _ = re.compile('<>').split(str)\n",
    "print(content)"
   ]
  },
  {
   "cell_type": "code",
   "execution_count": 3,
   "metadata": {},
   "outputs": [],
   "source": [
    "def func5(arg):\n",
    "    pass\n",
    "\n",
    "g = func5('g')"
   ]
  }
 ],
 "metadata": {
  "kernelspec": {
   "display_name": "Python 3",
   "language": "python",
   "name": "python3"
  },
  "language_info": {
   "codemirror_mode": {
    "name": "ipython",
    "version": 3
   },
   "file_extension": ".py",
   "mimetype": "text/x-python",
   "name": "python",
   "nbconvert_exporter": "python",
   "pygments_lexer": "ipython3",
   "version": "3.6.4"
  }
 },
 "nbformat": 4,
 "nbformat_minor": 2
}
