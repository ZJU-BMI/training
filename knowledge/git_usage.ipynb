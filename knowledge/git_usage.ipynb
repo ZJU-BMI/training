{
 "cells": [
  {
   "cell_type": "markdown",
   "metadata": {},
   "source": [
    "# git的使用"
   ]
  },
  {
   "cell_type": "markdown",
   "metadata": {},
   "source": [
    "> 从[git官网](https://git-scm.com/)下载相应的客户端"
   ]
  },
  {
   "cell_type": "markdown",
   "metadata": {},
   "source": [
    "## git命令\n",
    "\n",
    "git常用命令\n",
    "* `git init` 将一个文件夹初始化为git仓库\n",
    "[]\n",
    "* `git add <file> / <folder>` 将一个文件(夹)加入到版本控制当中\n",
    "* `git commit -m <messange>` 提交本次更改，并添加一段简短的说明\n",
    "* `git status` 查看当前仓库的状态，有无修改，是否有需要提交的更改\n",
    "* `git remote add <name> <url>` name为远程仓库的别名，通常为`origin`，也可取做其他任意名字， url为远程仓库的链接，如`git@github.com:ZJU-BMI/training.git`\n",
    "* `git push` 将本地的提交上传至远程仓库\n",
    "* `git pull` 将远程仓库的提交同步到本地\n",
    "* `git log` 查看提交的记录\n",
    "* `git diff` 查看文件之间的差异 (但现在很多IDE,编辑器都提供了更方便的可视化，所以我也会较少使用)\n",
    "\n",
    "简单的分支管理\n",
    "* `git checkout -b <branchName>` 创建并切换到名为branchName的分支\n",
    "* `git checkout <branchName>` 切换到名为branchName的分支\n",
    "* `git merge <branchName>` 将名为branchName中的提交合并至当前所在分支\n",
    "* `git branch` 查看有哪些分支\n",
    "* `git branch -d <branchName>` 删除名为branchName的分支\n",
    "\n",
    "版本的回退\n",
    "* `git reset --hard HEAD^` 回退一个版本\n",
    "* `git reset --hard <8888888>` 回退到指定版本"
   ]
  },
  {
   "cell_type": "markdown",
   "metadata": {},
   "source": [
    "## .gitignore文件\n",
    "一些不想加入版本控制的文件，可以写在这个文件中\n",
    "\n",
    "如\n",
    "* java的编译文件，则加入 `*.class`\n",
    "* python的预编译文件，加入`*.pyc`或者将文件夹`__pycache__/`加入到`.gitignore`中\n",
    "* 我们的数据文件，`*.csv`或`resources/`\n",
    "\n",
    "> 更多的`.gitignore`文件参考可以看[这里](https://github.com/github/gitignore)"
   ]
  },
  {
   "cell_type": "markdown",
   "metadata": {},
   "source": [
    "## 我的一般使用流程\n",
    "1. 本地`git init`\n",
    "2. 加入`.gitignore`文件，可以将指定的一些文件，文件夹排除在版本控制之外\n",
    "3. 加入`README.MD`文件，对该项目，仓库做简短的说明\n",
    "4. `git add .` 将当前目录所有文件加入版本控制\n",
    "5. `git commit -m \"init commit\"` 作为一个初始版本提交\n",
    "6. 在github上创建一个项目，产生链接类似于`git@github.com:ZJU-BMI/training.git`\n",
    "7. 添加远程仓库`git remote add origin git@github.com:ZJU-BMI/training.git`\n",
    "8. 推送到远程仓库`git push -u origin master`"
   ]
  }
 ],
 "metadata": {
  "kernelspec": {
   "display_name": "Python 3",
   "language": "python",
   "name": "python3"
  },
  "language_info": {
   "codemirror_mode": {
    "name": "ipython",
    "version": 3
   },
   "file_extension": ".py",
   "mimetype": "text/x-python",
   "name": "python",
   "nbconvert_exporter": "python",
   "pygments_lexer": "ipython3",
   "version": "3.6.4"
  }
 },
 "nbformat": 4,
 "nbformat_minor": 2
}
