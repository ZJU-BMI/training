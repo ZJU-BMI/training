{
 "cells": [
  {
   "cell_type": "markdown",
   "metadata": {},
   "source": [
    "# 基础知识"
   ]
  },
  {
   "cell_type": "code",
   "execution_count": 3,
   "metadata": {
    "scrolled": false
   },
   "outputs": [
    {
     "name": "stdout",
     "output_type": "stream",
     "text": [
      "<class 'int'>\n",
      "<class 'float'>\n",
      "<class 'str'>\n",
      "<class 'list'>\n",
      "<class 'tuple'>\n",
      "<class 'dict'>\n",
      "<class 'bool'>\n"
     ]
    }
   ],
   "source": [
    "# 基础类型\n",
    "print(type(1))  # int\n",
    "print(type(1.))  # float\n",
    "print(type(\"a\"))  # str\n",
    "print(type([]))  # list []\n",
    "print(type(())) # tuple ()\n",
    "print(type({}))  # dict {}\n",
    "print(type(True))  # bool"
   ]
  },
  {
   "cell_type": "code",
   "execution_count": 1,
   "metadata": {},
   "outputs": [],
   "source": [
    "# 基本运算 + - * /\n",
    "a = 1 + 1\n",
    "b = 2 - 1\n",
    "c = 2 * 3\n",
    "d = 4 / 1"
   ]
  },
  {
   "cell_type": "code",
   "execution_count": 6,
   "metadata": {},
   "outputs": [
    {
     "name": "stdout",
     "output_type": "stream",
     "text": [
      "False\n",
      "True\n",
      "True\n",
      "False\n",
      "True\n",
      "False\n"
     ]
    }
   ],
   "source": [
    "# 逻辑运算符 is not or and\n",
    "print(1 is \"1\")\n",
    "print(\"1\" == '1')\n",
    "print(not True)\n",
    "print(False or True)\n",
    "print(True and False)"
   ]
  },
  {
   "cell_type": "code",
   "execution_count": 2,
   "metadata": {},
   "outputs": [],
   "source": [
    "# 条件判断\n",
    "if True:\n",
    "    pass\n",
    "elif False:\n",
    "    pass\n",
    "else:\n",
    "    pass"
   ]
  },
  {
   "cell_type": "code",
   "execution_count": 3,
   "metadata": {},
   "outputs": [],
   "source": [
    "# 循环\n",
    "for i in range(10):\n",
    "    pass\n",
    "\n",
    "while(True):\n",
    "    break"
   ]
  },
  {
   "cell_type": "code",
   "execution_count": 7,
   "metadata": {},
   "outputs": [
    {
     "name": "stdout",
     "output_type": "stream",
     "text": [
      "a\n",
      "b\n",
      "c\n",
      "d\n"
     ]
    }
   ],
   "source": [
    "# 迭代\n",
    "a = [\"a\", \"b\", \"c\", \"d\"]\n",
    "for i in a:\n",
    "    print(i)"
   ]
  },
  {
   "cell_type": "code",
   "execution_count": 4,
   "metadata": {},
   "outputs": [
    {
     "name": "stdout",
     "output_type": "stream",
     "text": [
      "func\n",
      "2\n",
      "1 2 3\n"
     ]
    }
   ],
   "source": [
    "# 函数\n",
    "def func():\n",
    "    print('func')\n",
    "\n",
    "func()\n",
    "\n",
    "def func2(a):\n",
    "    print(a)\n",
    "\n",
    "func2(2)\n",
    "\n",
    "def func3(a, *arg):\n",
    "    print(a, *arg)\n",
    "\n",
    "func3(1, 2, 3)"
   ]
  },
  {
   "cell_type": "code",
   "execution_count": 5,
   "metadata": {
    "scrolled": true
   },
   "outputs": [
    {
     "name": "stdout",
     "output_type": "stream",
     "text": [
      "1 2 3\n",
      "(4, 5)\n",
      "{'d': 6, 'e': 7}\n"
     ]
    }
   ],
   "source": [
    "# 函数的参数\n",
    "def func4(a, b, c=1, *args, **kw_args):\n",
    "    print(a, b, c)\n",
    "    print(args)\n",
    "    print(kw_args)\n",
    "\n",
    "func4(1, 2, 3, 4, 5, d=6, e=7)    "
   ]
  }
 ],
 "metadata": {
  "kernelspec": {
   "display_name": "Python 3",
   "language": "python",
   "name": "python3"
  },
  "language_info": {
   "codemirror_mode": {
    "name": "ipython",
    "version": 3
   },
   "file_extension": ".py",
   "mimetype": "text/x-python",
   "name": "python",
   "nbconvert_exporter": "python",
   "pygments_lexer": "ipython3",
   "version": "3.6.4"
  }
 },
 "nbformat": 4,
 "nbformat_minor": 2
}
