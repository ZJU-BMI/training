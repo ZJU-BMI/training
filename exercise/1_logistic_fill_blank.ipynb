{
 "cells": [
  {
   "cell_type": "markdown",
   "metadata": {},
   "source": [
    "# Logistic purely based numpy"
   ]
  },
  {
   "cell_type": "code",
   "execution_count": 2,
   "metadata": {},
   "outputs": [],
   "source": [
    "import numpy as np"
   ]
  },
  {
   "cell_type": "code",
   "execution_count": 15,
   "metadata": {},
   "outputs": [],
   "source": [
    "# model setup\n",
    "n_input = 8\n",
    "learning_rate = 0.001\n",
    "epochs = 1000"
   ]
  },
  {
   "cell_type": "markdown",
   "metadata": {},
   "source": [
    "## define the parameter, output of model\n",
    "$\\hat y = \\sigma(xW + b)$\n",
    "\n",
    "sigmoid function -> $\\sigma(h)=\\frac{1}{1+e^{-h}}$\n",
    "\n",
    "$W \\in R^{n\\_input}$\n",
    "\n",
    "$b \\in R$"
   ]
  },
  {
   "cell_type": "code",
   "execution_count": 4,
   "metadata": {},
   "outputs": [],
   "source": [
    "W = np.array([])\n",
    "b = 0\n",
    "\n",
    "def sigmoid(x):\n",
    "    '''implement sigmoid function'''\n",
    "    pass\n",
    "\n",
    "def output(x):\n",
    "    '''define the output of model'''\n",
    "    pass"
   ]
  },
  {
   "cell_type": "markdown",
   "metadata": {},
   "source": [
    "## define the loss of model\n",
    "\n",
    "$loss= \\frac 1 N \\sum_{n=1}^N\\left(y_n\\times \\log(\\hat y_n)+(1-y_n)\\times \\log(1-\\hat y_n)\\right)$ "
   ]
  },
  {
   "cell_type": "code",
   "execution_count": 5,
   "metadata": {},
   "outputs": [],
   "source": [
    "def loss(y, y_hat):\n",
    "    '''loss of model\n",
    "    :param y: y\n",
    "    :param y_hat: y_hat\n",
    "    '''\n",
    "    pass"
   ]
  },
  {
   "cell_type": "markdown",
   "metadata": {},
   "source": [
    "## define the gradient of the model\n",
    "\n",
    "$\\frac{\\partial{L}}{\\partial{W}}= \\frac{1}{N}(x^T \\times (\\hat y - y))$\n",
    "\n",
    "$\\frac{\\partial{L}}{\\partial{b}} = \\frac{1}{N}\\sum_{n=1}^N (\\hat y_n - y_n)$"
   ]
  },
  {
   "cell_type": "code",
   "execution_count": 5,
   "metadata": {},
   "outputs": [],
   "source": [
    "def gradient(X, y):\n",
    "    pass"
   ]
  },
  {
   "cell_type": "markdown",
   "metadata": {},
   "source": [
    "## training process: update the param W and b of model\n",
    "\n",
    "$W = W - learning\\_rate\\times \\frac{\\partial{L}}{\\partial W}$\n",
    "\n",
    "$b = b - learning\\_rate\\times \\frac{\\partial L}{\\partial b}$"
   ]
  },
  {
   "cell_type": "code",
   "execution_count": 18,
   "metadata": {},
   "outputs": [],
   "source": [
    "def train(X, y):\n",
    "    pass"
   ]
  },
  {
   "cell_type": "markdown",
   "metadata": {},
   "source": [
    "# train and test data"
   ]
  },
  {
   "cell_type": "code",
   "execution_count": 3,
   "metadata": {},
   "outputs": [],
   "source": [
    "train_x = np.array([\n",
    "    [1, 1, 1, 1, 0, 0, 0, 0],\n",
    "    [1, 0, 1, 1, 0, 0, 0, 0],\n",
    "    [1, 1, 0, 1, 0, 0, 0, 0],\n",
    "    [0, 1, 1, 1, 0, 0, 0, 0],\n",
    "    [0, 0, 0, 0, 1, 1, 1, 1],\n",
    "    [0, 0, 0, 0, 1, 0, 1, 1],\n",
    "    [0, 0, 0, 0, 0, 1, 1, 1],\n",
    "    [0, 0, 0, 0, 1, 1, 0, 1]\n",
    "])\n",
    "\n",
    "train_y = np.array([1, 1, 1, 1, 0, 0, 0, 0]).reshape(8, 1)\n",
    "\n",
    "test_x = np.array([\n",
    "    [1, 1, 1, 0, 0, 0, 0, 0],\n",
    "    [0, 0, 0, 0, 1, 1, 1, 0]\n",
    "])"
   ]
  },
  {
   "cell_type": "code",
   "execution_count": 19,
   "metadata": {},
   "outputs": [],
   "source": [
    "for i in range(epochs):\n",
    "    train(train_x, train_y)"
   ]
  },
  {
   "cell_type": "code",
   "execution_count": 22,
   "metadata": {},
   "outputs": [
    {
     "name": "stdout",
     "output_type": "stream",
     "text": [
      "None\n"
     ]
    }
   ],
   "source": [
    "# [1, 0]\n",
    "test_pred = output(test_x)\n",
    "print(test_pred)"
   ]
  }
 ],
 "metadata": {
  "kernelspec": {
   "display_name": "Python 3",
   "language": "python",
   "name": "python3"
  },
  "language_info": {
   "codemirror_mode": {
    "name": "ipython",
    "version": 3
   },
   "file_extension": ".py",
   "mimetype": "text/x-python",
   "name": "python",
   "nbconvert_exporter": "python",
   "pygments_lexer": "ipython3",
   "version": "3.6.4"
  }
 },
 "nbformat": 4,
 "nbformat_minor": 2
}
