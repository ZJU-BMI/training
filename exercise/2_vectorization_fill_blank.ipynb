{
 "cells": [
  {
   "cell_type": "markdown",
   "metadata": {},
   "source": [
    "# Vectorization"
   ]
  },
  {
   "cell_type": "code",
   "execution_count": 1,
   "metadata": {},
   "outputs": [],
   "source": [
    "import numpy as np\n",
    "import timeit"
   ]
  },
  {
   "cell_type": "markdown",
   "metadata": {},
   "source": [
    "# dot product"
   ]
  },
  {
   "cell_type": "code",
   "execution_count": 3,
   "metadata": {},
   "outputs": [],
   "source": [
    "a = np.array([1, 2, 3, 4, 5, 6])\n",
    "b = np.array([2, 3, 4, 5, 6, 7])"
   ]
  },
  {
   "cell_type": "code",
   "execution_count": 4,
   "metadata": {},
   "outputs": [],
   "source": [
    "def loop():\n",
    "    sum_ = 0\n",
    "    for x, y in zip(a, b):\n",
    "        sum_ += x * y\n",
    "\n",
    "def np_sum():\n",
    "    np.sum(a * b)\n",
    "\n",
    "def np_dot():\n",
    "    np.dot(a, b)\n",
    "    \n",
    "def np_matmul():\n",
    "    a @ b.transpose()"
   ]
  },
  {
   "cell_type": "code",
   "execution_count": 5,
   "metadata": {},
   "outputs": [],
   "source": [
    "c = b.transpose()\n",
    "\n",
    "def np_matmul():\n",
    "    a @ c"
   ]
  },
  {
   "cell_type": "code",
   "execution_count": 34,
   "metadata": {},
   "outputs": [
    {
     "name": "stdout",
     "output_type": "stream",
     "text": [
      "0.19618488130188894\n",
      "0.28700111498767455\n",
      "0.06111407264538116\n",
      "0.10798519312831445\n"
     ]
    }
   ],
   "source": [
    "print(timeit.timeit(\"loop()\", setup=\"from __main__ import loop\", number=50000))\n",
    "print(timeit.timeit(\"np_sum()\", setup=\"from __main__ import np_sum\", number=50000))\n",
    "print(timeit.timeit(\"np_dot()\", setup=\"from __main__ import np_dot\", number=50000))\n",
    "print(timeit.timeit(\"np_matmul()\", setup=\"from __main__ import np_matmul\", number=50000))"
   ]
  },
  {
   "cell_type": "markdown",
   "metadata": {},
   "source": [
    "# matrix multiplication"
   ]
  },
  {
   "cell_type": "code",
   "execution_count": 35,
   "metadata": {},
   "outputs": [],
   "source": [
    "d = np.array([[1, 2],\n",
    "             [2, 3]])\n",
    "\n",
    "e = np.array([[2, 2],\n",
    "             [3, 3]])"
   ]
  },
  {
   "cell_type": "code",
   "execution_count": null,
   "metadata": {},
   "outputs": [],
   "source": []
  }
 ],
 "metadata": {
  "kernelspec": {
   "display_name": "Python 3",
   "language": "python",
   "name": "python3"
  },
  "language_info": {
   "codemirror_mode": {
    "name": "ipython",
    "version": 3
   },
   "file_extension": ".py",
   "mimetype": "text/x-python",
   "name": "python",
   "nbconvert_exporter": "python",
   "pygments_lexer": "ipython3",
   "version": "3.6.4"
  }
 },
 "nbformat": 4,
 "nbformat_minor": 2
}
